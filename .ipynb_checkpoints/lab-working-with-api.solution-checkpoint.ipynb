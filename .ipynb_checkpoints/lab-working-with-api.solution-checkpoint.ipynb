{
 "cells": [
  {
   "cell_type": "code",
   "execution_count": 1,
   "id": "129ee82d",
   "metadata": {},
   "outputs": [],
   "source": [
    "import pandas as pd\n",
    "import requests"
   ]
  },
  {
   "cell_type": "markdown",
   "id": "7dcceb6e",
   "metadata": {},
   "source": [
    "## Chuck Norris Joke API"
   ]
  },
  {
   "cell_type": "code",
   "execution_count": 2,
   "id": "92de2d65",
   "metadata": {},
   "outputs": [],
   "source": [
    "chuck = requests.get('https://api.chucknorris.io/jokes/categories')"
   ]
  },
  {
   "cell_type": "code",
   "execution_count": 3,
   "id": "1ef2820a",
   "metadata": {},
   "outputs": [
    {
     "data": {
      "text/plain": [
       "['animal',\n",
       " 'career',\n",
       " 'celebrity',\n",
       " 'dev',\n",
       " 'explicit',\n",
       " 'fashion',\n",
       " 'food',\n",
       " 'history',\n",
       " 'money',\n",
       " 'movie',\n",
       " 'music',\n",
       " 'political',\n",
       " 'religion',\n",
       " 'science',\n",
       " 'sport',\n",
       " 'travel']"
      ]
     },
     "execution_count": 3,
     "metadata": {},
     "output_type": "execute_result"
    }
   ],
   "source": [
    "chuck_norris = chuck.json()\n",
    "chuck_norris"
   ]
  },
  {
   "cell_type": "code",
   "execution_count": 4,
   "id": "6a4476f4",
   "metadata": {},
   "outputs": [],
   "source": [
    "chuck = requests.get('https://api.chucknorris.io/jokes/random?category=dev')"
   ]
  },
  {
   "cell_type": "code",
   "execution_count": 5,
   "id": "e8ba2efd",
   "metadata": {},
   "outputs": [
    {
     "data": {
      "text/plain": [
       "{'categories': ['dev'],\n",
       " 'created_at': '2020-01-05 13:42:19.324003',\n",
       " 'icon_url': 'https://assets.chucknorris.host/img/avatar/chuck-norris.png',\n",
       " 'id': 'o8a2hwedsl229fyvwikkxq',\n",
       " 'updated_at': '2020-01-05 13:42:19.324003',\n",
       " 'url': 'https://api.chucknorris.io/jokes/o8a2hwedsl229fyvwikkxq',\n",
       " 'value': 'The only pattern Chuck Norris knows is God Object.'}"
      ]
     },
     "execution_count": 5,
     "metadata": {},
     "output_type": "execute_result"
    }
   ],
   "source": [
    "chuck_norris = chuck.json()\n",
    "chuck_norris"
   ]
  },
  {
   "cell_type": "code",
   "execution_count": 6,
   "id": "c1feb708",
   "metadata": {},
   "outputs": [
    {
     "data": {
      "text/html": [
       "<div>\n",
       "<style scoped>\n",
       "    .dataframe tbody tr th:only-of-type {\n",
       "        vertical-align: middle;\n",
       "    }\n",
       "\n",
       "    .dataframe tbody tr th {\n",
       "        vertical-align: top;\n",
       "    }\n",
       "\n",
       "    .dataframe thead th {\n",
       "        text-align: right;\n",
       "    }\n",
       "</style>\n",
       "<table border=\"1\" class=\"dataframe\">\n",
       "  <thead>\n",
       "    <tr style=\"text-align: right;\">\n",
       "      <th></th>\n",
       "      <th>categories</th>\n",
       "      <th>created_at</th>\n",
       "      <th>icon_url</th>\n",
       "      <th>id</th>\n",
       "      <th>updated_at</th>\n",
       "      <th>url</th>\n",
       "      <th>value</th>\n",
       "    </tr>\n",
       "  </thead>\n",
       "  <tbody>\n",
       "    <tr>\n",
       "      <th>0</th>\n",
       "      <td>dev</td>\n",
       "      <td>2020-01-05 13:42:19.324003</td>\n",
       "      <td>https://assets.chucknorris.host/img/avatar/chu...</td>\n",
       "      <td>o8a2hwedsl229fyvwikkxq</td>\n",
       "      <td>2020-01-05 13:42:19.324003</td>\n",
       "      <td>https://api.chucknorris.io/jokes/o8a2hwedsl229...</td>\n",
       "      <td>The only pattern Chuck Norris knows is God Obj...</td>\n",
       "    </tr>\n",
       "  </tbody>\n",
       "</table>\n",
       "</div>"
      ],
      "text/plain": [
       "  categories                  created_at  \\\n",
       "0        dev  2020-01-05 13:42:19.324003   \n",
       "\n",
       "                                            icon_url                      id  \\\n",
       "0  https://assets.chucknorris.host/img/avatar/chu...  o8a2hwedsl229fyvwikkxq   \n",
       "\n",
       "                   updated_at  \\\n",
       "0  2020-01-05 13:42:19.324003   \n",
       "\n",
       "                                                 url  \\\n",
       "0  https://api.chucknorris.io/jokes/o8a2hwedsl229...   \n",
       "\n",
       "                                               value  \n",
       "0  The only pattern Chuck Norris knows is God Obj...  "
      ]
     },
     "execution_count": 6,
     "metadata": {},
     "output_type": "execute_result"
    }
   ],
   "source": [
    "chucky = pd.DataFrame(chuck_norris)\n",
    "chucky"
   ]
  },
  {
   "cell_type": "markdown",
   "id": "811ff3db",
   "metadata": {},
   "source": [
    "## Agify API"
   ]
  },
  {
   "cell_type": "code",
   "execution_count": 7,
   "id": "c194b986",
   "metadata": {},
   "outputs": [],
   "source": [
    "agifyPT = requests.get('https://api.agify.io?name[]=nuno&name[]=maria&name[]=joana&country_id=PT')\n",
    "agifyNL = requests.get('https://api.agify.io?name[]=jan&name[]=jorien&country_id=NL')\n",
    "agifyUS = requests.get('https://api.agify.io?name[]=erin&country_id=US')"
   ]
  },
  {
   "cell_type": "code",
   "execution_count": 8,
   "id": "001cc854",
   "metadata": {},
   "outputs": [],
   "source": [
    "agesPT = agifyPT.json()\n",
    "agesNL = agifyNL.json()\n",
    "agesUS = agifyUS.json()"
   ]
  },
  {
   "cell_type": "code",
   "execution_count": 9,
   "id": "8769f30e",
   "metadata": {},
   "outputs": [
    {
     "data": {
      "text/html": [
       "<div>\n",
       "<style scoped>\n",
       "    .dataframe tbody tr th:only-of-type {\n",
       "        vertical-align: middle;\n",
       "    }\n",
       "\n",
       "    .dataframe tbody tr th {\n",
       "        vertical-align: top;\n",
       "    }\n",
       "\n",
       "    .dataframe thead th {\n",
       "        text-align: right;\n",
       "    }\n",
       "</style>\n",
       "<table border=\"1\" class=\"dataframe\">\n",
       "  <thead>\n",
       "    <tr style=\"text-align: right;\">\n",
       "      <th></th>\n",
       "      <th>name</th>\n",
       "      <th>age</th>\n",
       "      <th>count</th>\n",
       "      <th>country_id</th>\n",
       "    </tr>\n",
       "  </thead>\n",
       "  <tbody>\n",
       "    <tr>\n",
       "      <th>0</th>\n",
       "      <td>nuno</td>\n",
       "      <td>39</td>\n",
       "      <td>16680</td>\n",
       "      <td>PT</td>\n",
       "    </tr>\n",
       "    <tr>\n",
       "      <th>1</th>\n",
       "      <td>maria</td>\n",
       "      <td>23</td>\n",
       "      <td>160</td>\n",
       "      <td>PT</td>\n",
       "    </tr>\n",
       "    <tr>\n",
       "      <th>2</th>\n",
       "      <td>joana</td>\n",
       "      <td>63</td>\n",
       "      <td>7282</td>\n",
       "      <td>PT</td>\n",
       "    </tr>\n",
       "    <tr>\n",
       "      <th>0</th>\n",
       "      <td>jan</td>\n",
       "      <td>70</td>\n",
       "      <td>2047</td>\n",
       "      <td>NL</td>\n",
       "    </tr>\n",
       "    <tr>\n",
       "      <th>1</th>\n",
       "      <td>jorien</td>\n",
       "      <td>51</td>\n",
       "      <td>169</td>\n",
       "      <td>NL</td>\n",
       "    </tr>\n",
       "    <tr>\n",
       "      <th>0</th>\n",
       "      <td>erin</td>\n",
       "      <td>49</td>\n",
       "      <td>694</td>\n",
       "      <td>US</td>\n",
       "    </tr>\n",
       "  </tbody>\n",
       "</table>\n",
       "</div>"
      ],
      "text/plain": [
       "     name  age  count country_id\n",
       "0    nuno   39  16680         PT\n",
       "1   maria   23    160         PT\n",
       "2   joana   63   7282         PT\n",
       "0     jan   70   2047         NL\n",
       "1  jorien   51    169         NL\n",
       "0    erin   49    694         US"
      ]
     },
     "execution_count": 9,
     "metadata": {},
     "output_type": "execute_result"
    }
   ],
   "source": [
    "PT = pd.DataFrame(agesPT)\n",
    "NL = pd.DataFrame(agesNL)\n",
    "US = pd.DataFrame(agesUS)\n",
    "\n",
    "Name_Age = pd.concat([PT,NL,US])\n",
    "Name_Age"
   ]
  },
  {
   "cell_type": "markdown",
   "id": "b74048c5",
   "metadata": {},
   "source": [
    "## Harry Potter API"
   ]
  },
  {
   "cell_type": "code",
   "execution_count": 10,
   "id": "077c2c1d",
   "metadata": {},
   "outputs": [],
   "source": [
    "hp_students = requests.get('http://hp-api.herokuapp.com/api/characters/students')"
   ]
  },
  {
   "cell_type": "code",
   "execution_count": 11,
   "id": "aca92544",
   "metadata": {},
   "outputs": [],
   "source": [
    "students = hp_students.json()"
   ]
  },
  {
   "cell_type": "code",
   "execution_count": 14,
   "id": "cafc5674",
   "metadata": {},
   "outputs": [
    {
     "data": {
      "text/html": [
       "<div>\n",
       "<style scoped>\n",
       "    .dataframe tbody tr th:only-of-type {\n",
       "        vertical-align: middle;\n",
       "    }\n",
       "\n",
       "    .dataframe tbody tr th {\n",
       "        vertical-align: top;\n",
       "    }\n",
       "\n",
       "    .dataframe thead th {\n",
       "        text-align: right;\n",
       "    }\n",
       "</style>\n",
       "<table border=\"1\" class=\"dataframe\">\n",
       "  <thead>\n",
       "    <tr style=\"text-align: right;\">\n",
       "      <th></th>\n",
       "      <th>name</th>\n",
       "      <th>alternate_names</th>\n",
       "      <th>species</th>\n",
       "      <th>gender</th>\n",
       "      <th>house</th>\n",
       "      <th>dateOfBirth</th>\n",
       "      <th>yearOfBirth</th>\n",
       "      <th>wizard</th>\n",
       "      <th>ancestry</th>\n",
       "      <th>eyeColour</th>\n",
       "      <th>hairColour</th>\n",
       "      <th>wand</th>\n",
       "      <th>patronus</th>\n",
       "      <th>hogwartsStudent</th>\n",
       "      <th>hogwartsStaff</th>\n",
       "      <th>actor</th>\n",
       "      <th>alternate_actors</th>\n",
       "      <th>alive</th>\n",
       "      <th>image</th>\n",
       "    </tr>\n",
       "  </thead>\n",
       "  <tbody>\n",
       "    <tr>\n",
       "      <th>0</th>\n",
       "      <td>Harry Potter</td>\n",
       "      <td>[]</td>\n",
       "      <td>human</td>\n",
       "      <td>male</td>\n",
       "      <td>Gryffindor</td>\n",
       "      <td>31-07-1980</td>\n",
       "      <td>1980</td>\n",
       "      <td>True</td>\n",
       "      <td>half-blood</td>\n",
       "      <td>green</td>\n",
       "      <td>black</td>\n",
       "      <td>{'wood': 'holly', 'core': 'phoenix feather', '...</td>\n",
       "      <td>stag</td>\n",
       "      <td>True</td>\n",
       "      <td>False</td>\n",
       "      <td>Daniel Radcliffe</td>\n",
       "      <td>[]</td>\n",
       "      <td>True</td>\n",
       "      <td>http://hp-api.herokuapp.com/images/harry.jpg</td>\n",
       "    </tr>\n",
       "    <tr>\n",
       "      <th>1</th>\n",
       "      <td>Hermione Granger</td>\n",
       "      <td>[]</td>\n",
       "      <td>human</td>\n",
       "      <td>female</td>\n",
       "      <td>Gryffindor</td>\n",
       "      <td>19-09-1979</td>\n",
       "      <td>1979</td>\n",
       "      <td>True</td>\n",
       "      <td>muggleborn</td>\n",
       "      <td>brown</td>\n",
       "      <td>brown</td>\n",
       "      <td>{'wood': 'vine', 'core': 'dragon heartstring',...</td>\n",
       "      <td>otter</td>\n",
       "      <td>True</td>\n",
       "      <td>False</td>\n",
       "      <td>Emma Watson</td>\n",
       "      <td>[]</td>\n",
       "      <td>True</td>\n",
       "      <td>http://hp-api.herokuapp.com/images/hermione.jpeg</td>\n",
       "    </tr>\n",
       "    <tr>\n",
       "      <th>2</th>\n",
       "      <td>Ron Weasley</td>\n",
       "      <td>[]</td>\n",
       "      <td>human</td>\n",
       "      <td>male</td>\n",
       "      <td>Gryffindor</td>\n",
       "      <td>01-03-1980</td>\n",
       "      <td>1980</td>\n",
       "      <td>True</td>\n",
       "      <td>pure-blood</td>\n",
       "      <td>blue</td>\n",
       "      <td>red</td>\n",
       "      <td>{'wood': 'willow', 'core': 'unicorn tail-hair'...</td>\n",
       "      <td>Jack Russell terrier</td>\n",
       "      <td>True</td>\n",
       "      <td>False</td>\n",
       "      <td>Rupert Grint</td>\n",
       "      <td>[]</td>\n",
       "      <td>True</td>\n",
       "      <td>http://hp-api.herokuapp.com/images/ron.jpg</td>\n",
       "    </tr>\n",
       "    <tr>\n",
       "      <th>3</th>\n",
       "      <td>Draco Malfoy</td>\n",
       "      <td>[]</td>\n",
       "      <td>human</td>\n",
       "      <td>male</td>\n",
       "      <td>Slytherin</td>\n",
       "      <td>05-06-1980</td>\n",
       "      <td>1980</td>\n",
       "      <td>True</td>\n",
       "      <td>pure-blood</td>\n",
       "      <td>grey</td>\n",
       "      <td>blonde</td>\n",
       "      <td>{'wood': 'hawthorn', 'core': 'unicorn tail-hai...</td>\n",
       "      <td></td>\n",
       "      <td>True</td>\n",
       "      <td>False</td>\n",
       "      <td>Tom Felton</td>\n",
       "      <td>[]</td>\n",
       "      <td>True</td>\n",
       "      <td>http://hp-api.herokuapp.com/images/draco.jpg</td>\n",
       "    </tr>\n",
       "    <tr>\n",
       "      <th>4</th>\n",
       "      <td>Cedric Diggory</td>\n",
       "      <td>[]</td>\n",
       "      <td>human</td>\n",
       "      <td>male</td>\n",
       "      <td>Hufflepuff</td>\n",
       "      <td></td>\n",
       "      <td>1977</td>\n",
       "      <td>True</td>\n",
       "      <td></td>\n",
       "      <td>grey</td>\n",
       "      <td>brown</td>\n",
       "      <td>{'wood': 'ash', 'core': 'unicorn hair', 'lengt...</td>\n",
       "      <td></td>\n",
       "      <td>True</td>\n",
       "      <td>False</td>\n",
       "      <td>Robert Pattinson</td>\n",
       "      <td>[]</td>\n",
       "      <td>False</td>\n",
       "      <td>http://hp-api.herokuapp.com/images/cedric.png</td>\n",
       "    </tr>\n",
       "  </tbody>\n",
       "</table>\n",
       "</div>"
      ],
      "text/plain": [
       "               name alternate_names species  gender       house dateOfBirth  \\\n",
       "0      Harry Potter              []   human    male  Gryffindor  31-07-1980   \n",
       "1  Hermione Granger              []   human  female  Gryffindor  19-09-1979   \n",
       "2       Ron Weasley              []   human    male  Gryffindor  01-03-1980   \n",
       "3      Draco Malfoy              []   human    male   Slytherin  05-06-1980   \n",
       "4    Cedric Diggory              []   human    male  Hufflepuff               \n",
       "\n",
       "  yearOfBirth  wizard    ancestry eyeColour hairColour  \\\n",
       "0        1980    True  half-blood     green      black   \n",
       "1        1979    True  muggleborn     brown      brown   \n",
       "2        1980    True  pure-blood      blue        red   \n",
       "3        1980    True  pure-blood      grey     blonde   \n",
       "4        1977    True                  grey      brown   \n",
       "\n",
       "                                                wand              patronus  \\\n",
       "0  {'wood': 'holly', 'core': 'phoenix feather', '...                  stag   \n",
       "1  {'wood': 'vine', 'core': 'dragon heartstring',...                 otter   \n",
       "2  {'wood': 'willow', 'core': 'unicorn tail-hair'...  Jack Russell terrier   \n",
       "3  {'wood': 'hawthorn', 'core': 'unicorn tail-hai...                         \n",
       "4  {'wood': 'ash', 'core': 'unicorn hair', 'lengt...                         \n",
       "\n",
       "   hogwartsStudent  hogwartsStaff             actor alternate_actors  alive  \\\n",
       "0             True          False  Daniel Radcliffe               []   True   \n",
       "1             True          False       Emma Watson               []   True   \n",
       "2             True          False      Rupert Grint               []   True   \n",
       "3             True          False        Tom Felton               []   True   \n",
       "4             True          False  Robert Pattinson               []  False   \n",
       "\n",
       "                                              image  \n",
       "0      http://hp-api.herokuapp.com/images/harry.jpg  \n",
       "1  http://hp-api.herokuapp.com/images/hermione.jpeg  \n",
       "2        http://hp-api.herokuapp.com/images/ron.jpg  \n",
       "3      http://hp-api.herokuapp.com/images/draco.jpg  \n",
       "4     http://hp-api.herokuapp.com/images/cedric.png  "
      ]
     },
     "execution_count": 14,
     "metadata": {},
     "output_type": "execute_result"
    }
   ],
   "source": [
    "students = pd.DataFrame(students)\n",
    "students.head()"
   ]
  }
 ],
 "metadata": {
  "kernelspec": {
   "display_name": "Python 3",
   "language": "python",
   "name": "python3"
  },
  "language_info": {
   "codemirror_mode": {
    "name": "ipython",
    "version": 3
   },
   "file_extension": ".py",
   "mimetype": "text/x-python",
   "name": "python",
   "nbconvert_exporter": "python",
   "pygments_lexer": "ipython3",
   "version": "3.8.8"
  }
 },
 "nbformat": 4,
 "nbformat_minor": 5
}
